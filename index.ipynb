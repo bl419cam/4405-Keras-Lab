{
 "cells": [
  {
   "cell_type": "markdown",
   "metadata": {},
   "source": [
    "# Keras - Lab\n",
    "\n",
    "## Introduction\n",
    "\n",
    "In this lab you'll once again build a neural network but this time with much less production time since we will be using Keras to do a lot of the heavy lifting building blocks which we coded from hand previously.  Our use case will be classifying Bank complaints.\n",
    "\n",
    "\n",
    "## Objectives\n",
    "\n",
    "You will be able to:\n",
    "* Build a neural network using Keras"
   ]
  },
  {
   "cell_type": "markdown",
   "metadata": {},
   "source": [
    "## Loading Required Packages\n",
    "\n",
    "Here we'll import all of the various packages that we'll use in this code along. We'll point out where these imports were used as they come up in the lab."
   ]
  },
  {
   "cell_type": "code",
   "execution_count": 1,
   "metadata": {
    "collapsed": true
   },
   "outputs": [
    {
     "name": "stderr",
     "output_type": "stream",
     "text": [
      "Using TensorFlow backend.\n",
      "/anaconda3/envs/learn-env/lib/python3.6/site-packages/tensorflow/python/framework/dtypes.py:516: FutureWarning: Passing (type, 1) or '1type' as a synonym of type is deprecated; in a future version of numpy, it will be understood as (type, (1,)) / '(1,)type'.\n",
      "  _np_qint8 = np.dtype([(\"qint8\", np.int8, 1)])\n",
      "/anaconda3/envs/learn-env/lib/python3.6/site-packages/tensorflow/python/framework/dtypes.py:517: FutureWarning: Passing (type, 1) or '1type' as a synonym of type is deprecated; in a future version of numpy, it will be understood as (type, (1,)) / '(1,)type'.\n",
      "  _np_quint8 = np.dtype([(\"quint8\", np.uint8, 1)])\n",
      "/anaconda3/envs/learn-env/lib/python3.6/site-packages/tensorflow/python/framework/dtypes.py:518: FutureWarning: Passing (type, 1) or '1type' as a synonym of type is deprecated; in a future version of numpy, it will be understood as (type, (1,)) / '(1,)type'.\n",
      "  _np_qint16 = np.dtype([(\"qint16\", np.int16, 1)])\n",
      "/anaconda3/envs/learn-env/lib/python3.6/site-packages/tensorflow/python/framework/dtypes.py:519: FutureWarning: Passing (type, 1) or '1type' as a synonym of type is deprecated; in a future version of numpy, it will be understood as (type, (1,)) / '(1,)type'.\n",
      "  _np_quint16 = np.dtype([(\"quint16\", np.uint16, 1)])\n",
      "/anaconda3/envs/learn-env/lib/python3.6/site-packages/tensorflow/python/framework/dtypes.py:520: FutureWarning: Passing (type, 1) or '1type' as a synonym of type is deprecated; in a future version of numpy, it will be understood as (type, (1,)) / '(1,)type'.\n",
      "  _np_qint32 = np.dtype([(\"qint32\", np.int32, 1)])\n",
      "/anaconda3/envs/learn-env/lib/python3.6/site-packages/tensorflow/python/framework/dtypes.py:525: FutureWarning: Passing (type, 1) or '1type' as a synonym of type is deprecated; in a future version of numpy, it will be understood as (type, (1,)) / '(1,)type'.\n",
      "  np_resource = np.dtype([(\"resource\", np.ubyte, 1)])\n",
      "/anaconda3/envs/learn-env/lib/python3.6/site-packages/tensorboard/compat/tensorflow_stub/dtypes.py:541: FutureWarning: Passing (type, 1) or '1type' as a synonym of type is deprecated; in a future version of numpy, it will be understood as (type, (1,)) / '(1,)type'.\n",
      "  _np_qint8 = np.dtype([(\"qint8\", np.int8, 1)])\n",
      "/anaconda3/envs/learn-env/lib/python3.6/site-packages/tensorboard/compat/tensorflow_stub/dtypes.py:542: FutureWarning: Passing (type, 1) or '1type' as a synonym of type is deprecated; in a future version of numpy, it will be understood as (type, (1,)) / '(1,)type'.\n",
      "  _np_quint8 = np.dtype([(\"quint8\", np.uint8, 1)])\n",
      "/anaconda3/envs/learn-env/lib/python3.6/site-packages/tensorboard/compat/tensorflow_stub/dtypes.py:543: FutureWarning: Passing (type, 1) or '1type' as a synonym of type is deprecated; in a future version of numpy, it will be understood as (type, (1,)) / '(1,)type'.\n",
      "  _np_qint16 = np.dtype([(\"qint16\", np.int16, 1)])\n",
      "/anaconda3/envs/learn-env/lib/python3.6/site-packages/tensorboard/compat/tensorflow_stub/dtypes.py:544: FutureWarning: Passing (type, 1) or '1type' as a synonym of type is deprecated; in a future version of numpy, it will be understood as (type, (1,)) / '(1,)type'.\n",
      "  _np_quint16 = np.dtype([(\"quint16\", np.uint16, 1)])\n",
      "/anaconda3/envs/learn-env/lib/python3.6/site-packages/tensorboard/compat/tensorflow_stub/dtypes.py:545: FutureWarning: Passing (type, 1) or '1type' as a synonym of type is deprecated; in a future version of numpy, it will be understood as (type, (1,)) / '(1,)type'.\n",
      "  _np_qint32 = np.dtype([(\"qint32\", np.int32, 1)])\n",
      "/anaconda3/envs/learn-env/lib/python3.6/site-packages/tensorboard/compat/tensorflow_stub/dtypes.py:550: FutureWarning: Passing (type, 1) or '1type' as a synonym of type is deprecated; in a future version of numpy, it will be understood as (type, (1,)) / '(1,)type'.\n",
      "  np_resource = np.dtype([(\"resource\", np.ubyte, 1)])\n"
     ]
    }
   ],
   "source": [
    "import matplotlib.pyplot as plt\n",
    "import pandas as pd\n",
    "import numpy as np\n",
    "import random\n",
    "from sklearn.model_selection import train_test_split\n",
    "from keras.utils.np_utils import to_categorical\n",
    "from sklearn import preprocessing\n",
    "from keras.preprocessing.text import Tokenizer\n",
    "from keras import models\n",
    "from keras import layers\n",
    "from keras import optimizers"
   ]
  },
  {
   "cell_type": "markdown",
   "metadata": {},
   "source": [
    "## Loading the data\n",
    "\n",
    "As usual, we will start our data science process by importing the data itself.  \n",
    "Load and preview as a pandas dataframe.   \n",
    "The data is stored in a file **Bank_complaints.csv**."
   ]
  },
  {
   "cell_type": "code",
   "execution_count": 2,
   "metadata": {},
   "outputs": [],
   "source": [
    "#Your code here\n",
    "#import pandas as pd #As reference; already imported above\n",
    "bank_df = pd.read_csv('Bank_complaints.csv')"
   ]
  },
  {
   "cell_type": "code",
   "execution_count": 3,
   "metadata": {},
   "outputs": [
    {
     "data": {
      "text/html": [
       "<div>\n",
       "<style scoped>\n",
       "    .dataframe tbody tr th:only-of-type {\n",
       "        vertical-align: middle;\n",
       "    }\n",
       "\n",
       "    .dataframe tbody tr th {\n",
       "        vertical-align: top;\n",
       "    }\n",
       "\n",
       "    .dataframe thead th {\n",
       "        text-align: right;\n",
       "    }\n",
       "</style>\n",
       "<table border=\"1\" class=\"dataframe\">\n",
       "  <thead>\n",
       "    <tr style=\"text-align: right;\">\n",
       "      <th></th>\n",
       "      <th>Product</th>\n",
       "      <th>Consumer complaint narrative</th>\n",
       "    </tr>\n",
       "  </thead>\n",
       "  <tbody>\n",
       "    <tr>\n",
       "      <td>0</td>\n",
       "      <td>Student loan</td>\n",
       "      <td>In XX/XX/XXXX I filled out the Fedlaon applica...</td>\n",
       "    </tr>\n",
       "    <tr>\n",
       "      <td>1</td>\n",
       "      <td>Student loan</td>\n",
       "      <td>I am being contacted by a debt collector for p...</td>\n",
       "    </tr>\n",
       "    <tr>\n",
       "      <td>2</td>\n",
       "      <td>Student loan</td>\n",
       "      <td>I cosigned XXXX student loans at SallieMae for...</td>\n",
       "    </tr>\n",
       "    <tr>\n",
       "      <td>3</td>\n",
       "      <td>Student loan</td>\n",
       "      <td>Navient has sytematically and illegally failed...</td>\n",
       "    </tr>\n",
       "    <tr>\n",
       "      <td>4</td>\n",
       "      <td>Student loan</td>\n",
       "      <td>My wife became eligible for XXXX Loan Forgiven...</td>\n",
       "    </tr>\n",
       "  </tbody>\n",
       "</table>\n",
       "</div>"
      ],
      "text/plain": [
       "        Product                       Consumer complaint narrative\n",
       "0  Student loan  In XX/XX/XXXX I filled out the Fedlaon applica...\n",
       "1  Student loan  I am being contacted by a debt collector for p...\n",
       "2  Student loan  I cosigned XXXX student loans at SallieMae for...\n",
       "3  Student loan  Navient has sytematically and illegally failed...\n",
       "4  Student loan  My wife became eligible for XXXX Loan Forgiven..."
      ]
     },
     "execution_count": 3,
     "metadata": {},
     "output_type": "execute_result"
    }
   ],
   "source": [
    "bank_df.head()"
   ]
  },
  {
   "cell_type": "markdown",
   "metadata": {},
   "source": [
    "## Further Preview of the Categories\n",
    "\n",
    "As we said, our task here is to categorize banking complaints into various predefined categories. Preview what these categories are and what percent of the complaints each accounts for."
   ]
  },
  {
   "cell_type": "code",
   "execution_count": 4,
   "metadata": {},
   "outputs": [
    {
     "data": {
      "text/plain": [
       "array(['Student loan', 'Credit card', 'Bank account or service',\n",
       "       'Consumer Loan', 'Checking or savings account', 'Mortgage',\n",
       "       'Credit reporting'], dtype=object)"
      ]
     },
     "execution_count": 4,
     "metadata": {},
     "output_type": "execute_result"
    }
   ],
   "source": [
    "#Your code here\n",
    "bank_df['Product'].unique()"
   ]
  },
  {
   "cell_type": "code",
   "execution_count": 5,
   "metadata": {},
   "outputs": [
    {
     "data": {
      "text/plain": [
       "Student loan                   11404\n",
       "Credit card                     9540\n",
       "Consumer Loan                   9474\n",
       "Mortgage                        8332\n",
       "Bank account or service         8309\n",
       "Credit reporting                6864\n",
       "Checking or savings account     6077\n",
       "Name: Product, dtype: int64"
      ]
     },
     "execution_count": 5,
     "metadata": {},
     "output_type": "execute_result"
    }
   ],
   "source": [
    "bank_df['Product'].value_counts()"
   ]
  },
  {
   "cell_type": "code",
   "execution_count": 49,
   "metadata": {},
   "outputs": [
    {
     "data": {
      "text/plain": [
       "Student loan                   0.190067\n",
       "Credit card                    0.159000\n",
       "Consumer Loan                  0.157900\n",
       "Mortgage                       0.138867\n",
       "Bank account or service        0.138483\n",
       "Credit reporting               0.114400\n",
       "Checking or savings account    0.101283\n",
       "Name: Product, dtype: float64"
      ]
     },
     "execution_count": 49,
     "metadata": {},
     "output_type": "execute_result"
    }
   ],
   "source": [
    "bank_df['Product'].value_counts(normalize=True)"
   ]
  },
  {
   "cell_type": "markdown",
   "metadata": {},
   "source": [
    "## Preprocessing\n",
    "\n",
    "Before we build our neural network, we need to do several preprocessing steps. First, we will create word vector counts (a bag of words type representation) of our complaints text. Next, we will change the category labels to integers. Finally, we will perform our usual train-test split before building and training our neural network using Keras. With that, let's start munging our data!"
   ]
  },
  {
   "cell_type": "markdown",
   "metadata": {},
   "source": [
    "## One-hot encoding of the complaints\n",
    "\n",
    "Our first step again is to transform our textual data into a numerical representation. As we've started to see in some of our previous lessons on NLP, there are many ways to do this. Here, we'll use the `Tokenizer` method from the `preprocessing` module of the Keras package.   \n",
    "\n",
    "As with our previous work using NLTK, this will transform our text complaints into word vectors. (Note that the method of creating a vector is different from our previous work with NLTK; as you'll see, word order will be preserved as opposed to a bag of words representation. In the below code, we'll only keep the 2,000 most common words and use one-hot encoding.\n",
    "\n",
    "Note that the code block below takes advantage of the following package import from our first code cell above.  \n",
    "`from keras.preprocessing.text import Tokenizer`"
   ]
  },
  {
   "cell_type": "code",
   "execution_count": 6,
   "metadata": {},
   "outputs": [],
   "source": [
    "#As a quick preliminary, briefly review the docstring for the Keras.preprocessing.text.Tokenizer method:\n",
    "Tokenizer?"
   ]
  },
  {
   "cell_type": "code",
   "execution_count": 7,
   "metadata": {},
   "outputs": [
    {
     "name": "stdout",
     "output_type": "stream",
     "text": [
      "sequences type: <class 'list'>\n",
      "one_hot_results type: <class 'numpy.ndarray'>\n",
      "Found 50110 unique tokens.\n",
      "Dimensions of our coded results: (60000, 2000)\n"
     ]
    }
   ],
   "source": [
    "#Now onto the actual code recipe...\n",
    "#⏰ This cell may take about a thirty seconds to run\n",
    "complaints = bank_df[\"Consumer complaint narrative\"] #Our raw text complaints\n",
    "\n",
    "tokenizer = Tokenizer(num_words=2000) #Initialize a tokenizer.\n",
    "\n",
    "tokenizer.fit_on_texts(complaints) #Fit it to the complaints\n",
    "\n",
    "sequences = tokenizer.texts_to_sequences(complaints) #Generate sequences\n",
    "print('sequences type:', type(sequences))\n",
    "\n",
    "one_hot_results= tokenizer.texts_to_matrix(complaints, mode='binary') #Similar to sequences, but returns a numpy array\n",
    "print('one_hot_results type:', type(one_hot_results))\n",
    "\n",
    "word_index = tokenizer.word_index #Useful if we wish to decode (more explanation below)\n",
    "\n",
    "print('Found %s unique tokens.' % len(word_index)) #Tokens are the number of unique words across the corpus\n",
    "\n",
    "\n",
    "print('Dimensions of our coded results:', np.shape(one_hot_results)) #Our coded data"
   ]
  },
  {
   "cell_type": "markdown",
   "metadata": {},
   "source": [
    "## Decoding our Word Vectors\n",
    "As a note, you can also decode these vectorized representations of the reviews. The `word_index` variable, defined above, stores the mapping from the label number to the actual word. Somewhat tediously, we can turn this dictionary inside out and map it back to our word vectors, giving us roughly the original complaint back. (As you'll see, the text won't be identical as we limited ourselves to 200 words.)"
   ]
  },
  {
   "cell_type": "markdown",
   "metadata": {},
   "source": [
    "## Python Review / Mini Challenge\n",
    "\n",
    "While a bit tangential to our main topic of interest, we need to reverse our current dictionary `word_index` which maps words from our corpus to integers. In decoding our one_hot_results, we will need to create a dictionary of these integers to the original words. Below, take the `word_index` dictionary object and change the orientation so that the values are keys and the keys values. In other words, you are transforming something of the form {A:1, B:2, C:3} to {1:A, 2:B, 3:C}"
   ]
  },
  {
   "cell_type": "code",
   "execution_count": 17,
   "metadata": {},
   "outputs": [],
   "source": [
    "#word_index"
   ]
  },
  {
   "cell_type": "code",
   "execution_count": 16,
   "metadata": {},
   "outputs": [],
   "source": [
    "#Your code here\n",
    "reverse_index = {value:key for key, value in word_index.items()}"
   ]
  },
  {
   "cell_type": "code",
   "execution_count": 19,
   "metadata": {},
   "outputs": [],
   "source": [
    "#reverse_index"
   ]
  },
  {
   "cell_type": "markdown",
   "metadata": {},
   "source": [
    "## Back to Decoding Our Word Vectors..."
   ]
  },
  {
   "cell_type": "code",
   "execution_count": 20,
   "metadata": {},
   "outputs": [
    {
     "name": "stdout",
     "output_type": "stream",
     "text": [
      "Original complaint text:\n",
      "I have already filed several complaints about AES/PHEAA. I was notified by a XXXX XXXX let @ XXXX, who pretended to be from your office, he said he was from CFPB. I found out this morning he is n't from your office, but is actually works at XXXX. \n",
      "\n",
      "This has wasted weeks of my time. They AES/PHEAA confirmed and admitted ( see attached transcript of XXXX, conversation at XXXX ( XXXX ) with XXXX that proves they verified the loans are not mine ) the student loans they had XXXX, and collected on, and reported negate credit reporting in my name are in fact, not mine. \n",
      "They conclued their investigation on XXXX admitting they made a mistake and have my name on soneone elses loans. I these XXXX loans total {$10000.00}, original amount. My XXXX loans I got was total {$3500.00}. We proved by providing AES/PHEAA, this with my original promissary notes I located recently, the XXXX of my college provided AES/PHEAA with their original shoeinf amounts of my XXXX loans which show different dates and amounts, the dates and amounts are not even close to matching these loans they have in my name, The original lender, XXXX XXXX Bank notifying AES/PHEAA, they never issued me a student loan, and original Loan Guarantor, XXXX, notifying AES/PHEAA, they never were guarantor of my loans. \n",
      "\n",
      "XXXX straight forward. But today, this person, XXXX XXXX, told me they know these loans are not mine, and they refuse to remove my name off these XXXX loan 's and correct their mistake, essentially forcing me to pay these loans off, bucause in XXXX they sold the loans to XXXX loans. \n",
      "\n",
      "This is absurd, first protruding to be this office, and then refusing to correct their mistake. \n",
      "\n",
      "Please for the love of XXXX will soneone from your office call me at XXXX, today. I am a XXXX vet and they are knowingly discriminating against me. \n",
      "Pretending to be you.\n",
      "\n",
      "\n",
      "\n",
      "Decoded review from Tokenizer:\n",
      "i have already filed several complaints about aes i was notified by a xxxx xxxx let xxxx who to be from your office he said he was from cfpb i found out this morning he is n't from your office but is actually works at xxxx this has weeks of my time they aes confirmed and admitted see attached of xxxx conversation at xxxx xxxx with xxxx that they verified the loans are not mine the student loans they had xxxx and on and reported credit reporting in my name are in fact not mine they their investigation on xxxx they made a mistake and have my name on loans i these xxxx loans total 10000 00 original amount my xxxx loans i got was total 00 we by providing aes this with my original notes i located recently the xxxx of my college provided aes with their original amounts of my xxxx loans which show different dates and amounts the dates and amounts are not even close to these loans they have in my name the original lender xxxx xxxx bank notifying aes they never issued me a student loan and original loan xxxx notifying aes they never were of my loans xxxx forward but today this person xxxx xxxx told me they know these loans are not mine and they refuse to remove my name off these xxxx loan 's and correct their mistake essentially me to pay these loans off in xxxx they sold the loans to xxxx loans this is first to be this office and then refusing to correct their mistake please for the of xxxx will from your office call me at xxxx today i am a xxxx and they are against me to be you\n"
     ]
    }
   ],
   "source": [
    "comment_idx_to_preview = 19\n",
    "print('Original complaint text:')\n",
    "print(complaints[comment_idx_to_preview])\n",
    "print('\\n\\n')\n",
    "\n",
    "#The reverse_index cell block above must be complete in order for this cell block to successively execute.\n",
    "decoded_review = ' '.join([reverse_index.get(i) for i in sequences[comment_idx_to_preview]])\n",
    "print('Decoded review from Tokenizer:')\n",
    "print(decoded_review)"
   ]
  },
  {
   "cell_type": "markdown",
   "metadata": {},
   "source": [
    "## Convert the Products to Numerical Categories\n",
    "\n",
    "On to step two of our preprocessing: converting our descriptive categories into integers."
   ]
  },
  {
   "cell_type": "code",
   "execution_count": 23,
   "metadata": {},
   "outputs": [
    {
     "name": "stdout",
     "output_type": "stream",
     "text": [
      "Original class labels:\n",
      "['Bank account or service', 'Checking or savings account', 'Consumer Loan', 'Credit card', 'Credit reporting', 'Mortgage', 'Student loan']\n",
      "\n",
      "\n",
      "New product labels:\n",
      "[6 6 6 ... 4 4 4]\n",
      "\n",
      "\n",
      "One hot labels; 7 binary columns, one for each of the categories.\n",
      "[[0. 0. 0. ... 0. 0. 1.]\n",
      " [0. 0. 0. ... 0. 0. 1.]\n",
      " [0. 0. 0. ... 0. 0. 1.]\n",
      " ...\n",
      " [0. 0. 0. ... 1. 0. 0.]\n",
      " [0. 0. 0. ... 1. 0. 0.]\n",
      " [0. 0. 0. ... 1. 0. 0.]]\n",
      "\n",
      "\n",
      "One hot labels shape:\n",
      "(60000, 7)\n"
     ]
    }
   ],
   "source": [
    "product = bank_df[\"Product\"]\n",
    "\n",
    "#Initialize. le used as abbreviation fo label encoder\n",
    "le = preprocessing.LabelEncoder()\n",
    "le.fit(product)\n",
    "print(\"Original class labels:\")\n",
    "print(list(le.classes_))\n",
    "print('\\n')\n",
    "product_cat = le.transform(product)  \n",
    "#list(le.inverse_transform([0, 1, 3, 3, 0, 6, 4]))\n",
    "#If you wish to retrieve the original descriptive labels post production\n",
    "\n",
    "print('New product labels:')\n",
    "print(product_cat)\n",
    "print('\\n')\n",
    "\n",
    "#Each row will be all zeros except for the category for that observation.\n",
    "print('One hot labels; 7 binary columns, one for each of the categories.')\n",
    "product_onehot = to_categorical(product_cat)\n",
    "print(product_onehot)\n",
    "print('\\n')\n",
    "\n",
    "print('One hot labels shape:')\n",
    "print(np.shape(product_onehot))"
   ]
  },
  {
   "cell_type": "markdown",
   "metadata": {},
   "source": [
    "## Train - test split\n",
    "\n",
    "Now for our final preprocessing step: the usual train-test split."
   ]
  },
  {
   "cell_type": "code",
   "execution_count": 24,
   "metadata": {},
   "outputs": [
    {
     "name": "stdout",
     "output_type": "stream",
     "text": [
      "Test label shape: (1500, 7)\n",
      "Train label shape: (58500, 7)\n",
      "Test shape: (1500, 2000)\n",
      "Train shape: (58500, 2000)\n"
     ]
    }
   ],
   "source": [
    "import random\n",
    "random.seed(123)\n",
    "test_index = random.sample(range(1,10000), 1500)\n",
    "\n",
    "test = one_hot_results[test_index]\n",
    "train = np.delete(one_hot_results, test_index, 0)\n",
    "\n",
    "\n",
    "label_test = product_onehot[test_index]\n",
    "label_train = np.delete(product_onehot, test_index, 0)\n",
    "\n",
    "print(\"Test label shape:\", np.shape(label_test))\n",
    "print(\"Train label shape:\", np.shape(label_train))\n",
    "print(\"Test shape:\", np.shape(test))\n",
    "print(\"Train shape:\", np.shape(train))"
   ]
  },
  {
   "cell_type": "markdown",
   "metadata": {},
   "source": [
    "## Building the network"
   ]
  },
  {
   "cell_type": "markdown",
   "metadata": {},
   "source": [
    "Let's build a fully connected (Dense) layer network with relu activations in Keras. You can do this using: `Dense(16, activation='relu')`."
   ]
  },
  {
   "cell_type": "markdown",
   "metadata": {},
   "source": [
    "In this example, use 2 hidden with 50 units in the first layer and 25 in the second, both with a `relu` activation function. Because we are dealing with a multiclass problem (classifying the complaints into 7 ), we use a use a softmax classifier in order to output 7 class probabilities per case.  \n",
    "\n",
    "The previous imports that you'll use here are:  \n",
    "\n",
    "```from keras import models\n",
    "from keras import layers```"
   ]
  },
  {
   "cell_type": "code",
   "execution_count": 37,
   "metadata": {},
   "outputs": [
    {
     "data": {
      "text/plain": [
       "(58500, 2000)"
      ]
     },
     "execution_count": 37,
     "metadata": {},
     "output_type": "execute_result"
    }
   ],
   "source": [
    "train.shape"
   ]
  },
  {
   "cell_type": "code",
   "execution_count": 38,
   "metadata": {},
   "outputs": [],
   "source": [
    "#Your code here; initialize a sequential model with 3 layers; \n",
    "#two hidden relu and the final classification output using softmax\n",
    "model = models.Sequential()\n",
    "model.add(layers.Dense(50, activation='relu', input_shape=(train.shape[1],)))\n",
    "model.add(layers.Dense(25, activation='relu'))\n",
    "model.add(layers.Dense(7, activation='softmax'))"
   ]
  },
  {
   "cell_type": "code",
   "execution_count": 39,
   "metadata": {},
   "outputs": [
    {
     "name": "stdout",
     "output_type": "stream",
     "text": [
      "Model: \"sequential_5\"\n",
      "_________________________________________________________________\n",
      "Layer (type)                 Output Shape              Param #   \n",
      "=================================================================\n",
      "dense_6 (Dense)              (None, 50)                100050    \n",
      "_________________________________________________________________\n",
      "dense_7 (Dense)              (None, 25)                1275      \n",
      "_________________________________________________________________\n",
      "dense_8 (Dense)              (None, 7)                 182       \n",
      "=================================================================\n",
      "Total params: 101,507\n",
      "Trainable params: 101,507\n",
      "Non-trainable params: 0\n",
      "_________________________________________________________________\n"
     ]
    }
   ],
   "source": [
    "model.summary()"
   ]
  },
  {
   "cell_type": "markdown",
   "metadata": {},
   "source": [
    "## Compiling the model and look at the results\n",
    "\n",
    "Now, compile the model! This time, use `'categorical_crossentropy'` as the loss function and stochastic gradient descent, `'SGD'` as the optimizer. As in the previous lesson, include the accuracy as a metric."
   ]
  },
  {
   "cell_type": "code",
   "execution_count": 40,
   "metadata": {},
   "outputs": [],
   "source": [
    "#Your code here\n",
    "model.compile(optimizer='SGD',\n",
    "              loss='categorical_crossentropy',\n",
    "              metrics=['accuracy'])"
   ]
  },
  {
   "cell_type": "markdown",
   "metadata": {},
   "source": [
    "## Training the model\n",
    "\n",
    "In the compiler, you'll be passing the optimizer (SGD = stochastic gradient descent), loss function, and metrics. Train the model for 120 epochs in mini-batches of 256 samples.\n",
    "\n",
    "_Note:_ ⏰ _Your code may take about one to two minutes to run._"
   ]
  },
  {
   "cell_type": "code",
   "execution_count": 41,
   "metadata": {},
   "outputs": [
    {
     "name": "stderr",
     "output_type": "stream",
     "text": [
      "W1015 14:57:37.835263 4381930944 deprecation.py:323] From /anaconda3/envs/learn-env/lib/python3.6/site-packages/tensorflow/python/ops/math_grad.py:1250: add_dispatch_support.<locals>.wrapper (from tensorflow.python.ops.array_ops) is deprecated and will be removed in a future version.\n",
      "Instructions for updating:\n",
      "Use tf.where in 2.0, which has the same broadcast rule as np.where\n",
      "W1015 14:57:37.880584 4381930944 deprecation_wrapper.py:119] From /anaconda3/envs/learn-env/lib/python3.6/site-packages/keras/backend/tensorflow_backend.py:1033: The name tf.assign_add is deprecated. Please use tf.compat.v1.assign_add instead.\n",
      "\n"
     ]
    },
    {
     "name": "stdout",
     "output_type": "stream",
     "text": [
      "Train on 58500 samples, validate on 1500 samples\n",
      "Epoch 1/120\n",
      "58500/58500 [==============================] - 1s 19us/step - loss: 1.8867 - acc: 0.2273 - val_loss: 1.4300 - val_acc: 0.8367\n",
      "Epoch 2/120\n",
      "58500/58500 [==============================] - 1s 13us/step - loss: 1.6625 - acc: 0.4194 - val_loss: 0.9646 - val_acc: 0.8813\n",
      "Epoch 3/120\n",
      "58500/58500 [==============================] - 1s 13us/step - loss: 1.2676 - acc: 0.6219 - val_loss: 0.6429 - val_acc: 0.8767\n",
      "Epoch 4/120\n",
      "58500/58500 [==============================] - 1s 13us/step - loss: 0.9639 - acc: 0.6970 - val_loss: 0.5016 - val_acc: 0.8773\n",
      "Epoch 5/120\n",
      "58500/58500 [==============================] - 1s 13us/step - loss: 0.8106 - acc: 0.7267 - val_loss: 0.3967 - val_acc: 0.8953\n",
      "Epoch 6/120\n",
      "58500/58500 [==============================] - 1s 13us/step - loss: 0.7299 - acc: 0.7445 - val_loss: 0.3826 - val_acc: 0.8867\n",
      "Epoch 7/120\n",
      "58500/58500 [==============================] - 1s 13us/step - loss: 0.6814 - acc: 0.7562 - val_loss: 0.3684 - val_acc: 0.8867\n",
      "Epoch 8/120\n",
      "58500/58500 [==============================] - 1s 13us/step - loss: 0.6485 - acc: 0.7663 - val_loss: 0.3419 - val_acc: 0.8973\n",
      "Epoch 9/120\n",
      "58500/58500 [==============================] - 1s 13us/step - loss: 0.6240 - acc: 0.7738 - val_loss: 0.3266 - val_acc: 0.9000\n",
      "Epoch 10/120\n",
      "58500/58500 [==============================] - 1s 13us/step - loss: 0.6048 - acc: 0.7801 - val_loss: 0.3537 - val_acc: 0.8893\n",
      "Epoch 11/120\n",
      "58500/58500 [==============================] - 1s 13us/step - loss: 0.5889 - acc: 0.7864 - val_loss: 0.2872 - val_acc: 0.9100\n",
      "Epoch 12/120\n",
      "58500/58500 [==============================] - 1s 13us/step - loss: 0.5757 - acc: 0.7907 - val_loss: 0.2730 - val_acc: 0.9160\n",
      "Epoch 13/120\n",
      "58500/58500 [==============================] - 1s 13us/step - loss: 0.5637 - acc: 0.7953 - val_loss: 0.2909 - val_acc: 0.9087\n",
      "Epoch 14/120\n",
      "58500/58500 [==============================] - 1s 13us/step - loss: 0.5533 - acc: 0.7982 - val_loss: 0.2630 - val_acc: 0.9180\n",
      "Epoch 15/120\n",
      "58500/58500 [==============================] - 1s 13us/step - loss: 0.5440 - acc: 0.8028 - val_loss: 0.2694 - val_acc: 0.9147\n",
      "Epoch 16/120\n",
      "58500/58500 [==============================] - 1s 13us/step - loss: 0.5354 - acc: 0.8069 - val_loss: 0.2653 - val_acc: 0.9147\n",
      "Epoch 17/120\n",
      "58500/58500 [==============================] - 1s 13us/step - loss: 0.5273 - acc: 0.8095 - val_loss: 0.2712 - val_acc: 0.9140\n",
      "Epoch 18/120\n",
      "58500/58500 [==============================] - 1s 13us/step - loss: 0.5203 - acc: 0.8121 - val_loss: 0.2689 - val_acc: 0.9133\n",
      "Epoch 19/120\n",
      "58500/58500 [==============================] - 1s 13us/step - loss: 0.5138 - acc: 0.8145 - val_loss: 0.2481 - val_acc: 0.9220\n",
      "Epoch 20/120\n",
      "58500/58500 [==============================] - 1s 13us/step - loss: 0.5074 - acc: 0.8178 - val_loss: 0.2453 - val_acc: 0.9213\n",
      "Epoch 21/120\n",
      "58500/58500 [==============================] - 1s 13us/step - loss: 0.5018 - acc: 0.8191 - val_loss: 0.2690 - val_acc: 0.9127\n",
      "Epoch 22/120\n",
      "58500/58500 [==============================] - 1s 13us/step - loss: 0.4962 - acc: 0.8218 - val_loss: 0.2694 - val_acc: 0.9140\n",
      "Epoch 23/120\n",
      "58500/58500 [==============================] - 1s 13us/step - loss: 0.4910 - acc: 0.8239 - val_loss: 0.2936 - val_acc: 0.9053\n",
      "Epoch 24/120\n",
      "58500/58500 [==============================] - 1s 13us/step - loss: 0.4864 - acc: 0.8258 - val_loss: 0.2197 - val_acc: 0.9313\n",
      "Epoch 25/120\n",
      "58500/58500 [==============================] - 1s 13us/step - loss: 0.4817 - acc: 0.8273 - val_loss: 0.2635 - val_acc: 0.9140\n",
      "Epoch 26/120\n",
      "58500/58500 [==============================] - 1s 14us/step - loss: 0.4773 - acc: 0.8288 - val_loss: 0.2372 - val_acc: 0.9240\n",
      "Epoch 27/120\n",
      "58500/58500 [==============================] - 1s 13us/step - loss: 0.4732 - acc: 0.8304 - val_loss: 0.2970 - val_acc: 0.9053\n",
      "Epoch 28/120\n",
      "58500/58500 [==============================] - 1s 13us/step - loss: 0.4693 - acc: 0.8321 - val_loss: 0.2424 - val_acc: 0.9213\n",
      "Epoch 29/120\n",
      "58500/58500 [==============================] - 1s 13us/step - loss: 0.4657 - acc: 0.8334 - val_loss: 0.2553 - val_acc: 0.9167\n",
      "Epoch 30/120\n",
      "58500/58500 [==============================] - 1s 13us/step - loss: 0.4620 - acc: 0.8348 - val_loss: 0.2270 - val_acc: 0.9267\n",
      "Epoch 31/120\n",
      "58500/58500 [==============================] - 1s 13us/step - loss: 0.4585 - acc: 0.8363 - val_loss: 0.2569 - val_acc: 0.9153\n",
      "Epoch 32/120\n",
      "58500/58500 [==============================] - 1s 14us/step - loss: 0.4552 - acc: 0.8378 - val_loss: 0.2377 - val_acc: 0.9233\n",
      "Epoch 33/120\n",
      "58500/58500 [==============================] - 1s 14us/step - loss: 0.4521 - acc: 0.8386 - val_loss: 0.2062 - val_acc: 0.9333\n",
      "Epoch 34/120\n",
      "58500/58500 [==============================] - 1s 14us/step - loss: 0.4489 - acc: 0.8403 - val_loss: 0.1944 - val_acc: 0.9380\n",
      "Epoch 35/120\n",
      "58500/58500 [==============================] - 1s 14us/step - loss: 0.4462 - acc: 0.8410 - val_loss: 0.2316 - val_acc: 0.9247\n",
      "Epoch 36/120\n",
      "58500/58500 [==============================] - 1s 14us/step - loss: 0.4432 - acc: 0.8426 - val_loss: 0.2313 - val_acc: 0.9233\n",
      "Epoch 37/120\n",
      "58500/58500 [==============================] - 1s 14us/step - loss: 0.4404 - acc: 0.8443 - val_loss: 0.2030 - val_acc: 0.9353\n",
      "Epoch 38/120\n",
      "58500/58500 [==============================] - 1s 14us/step - loss: 0.4378 - acc: 0.8437 - val_loss: 0.1883 - val_acc: 0.9393\n",
      "Epoch 39/120\n",
      "58500/58500 [==============================] - 1s 14us/step - loss: 0.4354 - acc: 0.8461 - val_loss: 0.2272 - val_acc: 0.9260\n",
      "Epoch 40/120\n",
      "58500/58500 [==============================] - 1s 14us/step - loss: 0.4330 - acc: 0.8469 - val_loss: 0.2113 - val_acc: 0.9287\n",
      "Epoch 41/120\n",
      "58500/58500 [==============================] - 1s 14us/step - loss: 0.4302 - acc: 0.8474 - val_loss: 0.2128 - val_acc: 0.9287\n",
      "Epoch 42/120\n",
      "58500/58500 [==============================] - 1s 15us/step - loss: 0.4282 - acc: 0.8478 - val_loss: 0.2215 - val_acc: 0.9280\n",
      "Epoch 43/120\n",
      "58500/58500 [==============================] - 1s 14us/step - loss: 0.4257 - acc: 0.8487 - val_loss: 0.2183 - val_acc: 0.9280\n",
      "Epoch 44/120\n",
      "58500/58500 [==============================] - 1s 15us/step - loss: 0.4235 - acc: 0.8497 - val_loss: 0.2381 - val_acc: 0.9240\n",
      "Epoch 45/120\n",
      "58500/58500 [==============================] - 1s 14us/step - loss: 0.4216 - acc: 0.8507 - val_loss: 0.2323 - val_acc: 0.9233\n",
      "Epoch 46/120\n",
      "58500/58500 [==============================] - 1s 14us/step - loss: 0.4195 - acc: 0.8511 - val_loss: 0.2426 - val_acc: 0.9220\n",
      "Epoch 47/120\n",
      "58500/58500 [==============================] - 1s 14us/step - loss: 0.4175 - acc: 0.8521 - val_loss: 0.2281 - val_acc: 0.9260\n",
      "Epoch 48/120\n",
      "58500/58500 [==============================] - 1s 15us/step - loss: 0.4153 - acc: 0.8524 - val_loss: 0.2332 - val_acc: 0.9240\n",
      "Epoch 49/120\n",
      "58500/58500 [==============================] - 1s 14us/step - loss: 0.4135 - acc: 0.8534 - val_loss: 0.2350 - val_acc: 0.9213\n",
      "Epoch 50/120\n",
      "58500/58500 [==============================] - 1s 15us/step - loss: 0.4117 - acc: 0.8546 - val_loss: 0.2119 - val_acc: 0.9313\n",
      "Epoch 51/120\n",
      "58500/58500 [==============================] - 1s 14us/step - loss: 0.4096 - acc: 0.8542 - val_loss: 0.2034 - val_acc: 0.9353\n",
      "Epoch 52/120\n",
      "58500/58500 [==============================] - 1s 14us/step - loss: 0.4081 - acc: 0.8549 - val_loss: 0.2233 - val_acc: 0.9280\n",
      "Epoch 53/120\n",
      "58500/58500 [==============================] - 1s 14us/step - loss: 0.4061 - acc: 0.8558 - val_loss: 0.2410 - val_acc: 0.9200\n",
      "Epoch 54/120\n",
      "58500/58500 [==============================] - 1s 15us/step - loss: 0.4045 - acc: 0.8568 - val_loss: 0.2283 - val_acc: 0.9253\n",
      "Epoch 55/120\n",
      "58500/58500 [==============================] - 1s 14us/step - loss: 0.4028 - acc: 0.8573 - val_loss: 0.2144 - val_acc: 0.9293\n",
      "Epoch 56/120\n",
      "58500/58500 [==============================] - 1s 14us/step - loss: 0.4012 - acc: 0.8580 - val_loss: 0.2201 - val_acc: 0.9287\n",
      "Epoch 57/120\n",
      "58500/58500 [==============================] - 1s 14us/step - loss: 0.3996 - acc: 0.8578 - val_loss: 0.2042 - val_acc: 0.9373\n",
      "Epoch 58/120\n",
      "58500/58500 [==============================] - 1s 14us/step - loss: 0.3980 - acc: 0.8587 - val_loss: 0.2295 - val_acc: 0.9253\n",
      "Epoch 59/120\n"
     ]
    },
    {
     "name": "stdout",
     "output_type": "stream",
     "text": [
      "58500/58500 [==============================] - 1s 14us/step - loss: 0.3965 - acc: 0.8592 - val_loss: 0.1883 - val_acc: 0.9400\n",
      "Epoch 60/120\n",
      "58500/58500 [==============================] - 1s 14us/step - loss: 0.3947 - acc: 0.8598 - val_loss: 0.1952 - val_acc: 0.9400\n",
      "Epoch 61/120\n",
      "58500/58500 [==============================] - 1s 14us/step - loss: 0.3935 - acc: 0.8600 - val_loss: 0.2140 - val_acc: 0.9360\n",
      "Epoch 62/120\n",
      "58500/58500 [==============================] - 1s 14us/step - loss: 0.3920 - acc: 0.8604 - val_loss: 0.2427 - val_acc: 0.9220\n",
      "Epoch 63/120\n",
      "58500/58500 [==============================] - 1s 14us/step - loss: 0.3905 - acc: 0.8611 - val_loss: 0.2335 - val_acc: 0.9247\n",
      "Epoch 64/120\n",
      "58500/58500 [==============================] - 1s 14us/step - loss: 0.3891 - acc: 0.8617 - val_loss: 0.2032 - val_acc: 0.9367\n",
      "Epoch 65/120\n",
      "58500/58500 [==============================] - 1s 14us/step - loss: 0.3878 - acc: 0.8625 - val_loss: 0.2230 - val_acc: 0.9293\n",
      "Epoch 66/120\n",
      "58500/58500 [==============================] - 1s 14us/step - loss: 0.3863 - acc: 0.8627 - val_loss: 0.2326 - val_acc: 0.9253\n",
      "Epoch 67/120\n",
      "58500/58500 [==============================] - 1s 14us/step - loss: 0.3849 - acc: 0.8627 - val_loss: 0.2235 - val_acc: 0.9293\n",
      "Epoch 68/120\n",
      "58500/58500 [==============================] - 1s 14us/step - loss: 0.3838 - acc: 0.8636 - val_loss: 0.2315 - val_acc: 0.9247\n",
      "Epoch 69/120\n",
      "58500/58500 [==============================] - 1s 14us/step - loss: 0.3824 - acc: 0.8638 - val_loss: 0.2220 - val_acc: 0.9293\n",
      "Epoch 70/120\n",
      "58500/58500 [==============================] - 1s 14us/step - loss: 0.3812 - acc: 0.8639 - val_loss: 0.2292 - val_acc: 0.9267\n",
      "Epoch 71/120\n",
      "58500/58500 [==============================] - 1s 14us/step - loss: 0.3800 - acc: 0.8642 - val_loss: 0.2190 - val_acc: 0.9307\n",
      "Epoch 72/120\n",
      "58500/58500 [==============================] - 1s 14us/step - loss: 0.3789 - acc: 0.8647 - val_loss: 0.2103 - val_acc: 0.9327\n",
      "Epoch 73/120\n",
      "58500/58500 [==============================] - 1s 14us/step - loss: 0.3775 - acc: 0.8662 - val_loss: 0.2143 - val_acc: 0.9333\n",
      "Epoch 74/120\n",
      "58500/58500 [==============================] - 1s 14us/step - loss: 0.3762 - acc: 0.8664 - val_loss: 0.2416 - val_acc: 0.9240\n",
      "Epoch 75/120\n",
      "58500/58500 [==============================] - 1s 14us/step - loss: 0.3752 - acc: 0.8664 - val_loss: 0.2264 - val_acc: 0.9273\n",
      "Epoch 76/120\n",
      "58500/58500 [==============================] - 1s 14us/step - loss: 0.3742 - acc: 0.8666 - val_loss: 0.2152 - val_acc: 0.9347\n",
      "Epoch 77/120\n",
      "58500/58500 [==============================] - 1s 14us/step - loss: 0.3726 - acc: 0.8671 - val_loss: 0.2234 - val_acc: 0.9293\n",
      "Epoch 78/120\n",
      "58500/58500 [==============================] - 1s 14us/step - loss: 0.3717 - acc: 0.8677 - val_loss: 0.2301 - val_acc: 0.9260\n",
      "Epoch 79/120\n",
      "58500/58500 [==============================] - 1s 14us/step - loss: 0.3706 - acc: 0.8667 - val_loss: 0.2027 - val_acc: 0.9387\n",
      "Epoch 80/120\n",
      "58500/58500 [==============================] - 1s 14us/step - loss: 0.3695 - acc: 0.8684 - val_loss: 0.2283 - val_acc: 0.9267\n",
      "Epoch 81/120\n",
      "58500/58500 [==============================] - 1s 14us/step - loss: 0.3684 - acc: 0.8686 - val_loss: 0.2502 - val_acc: 0.9233\n",
      "Epoch 82/120\n",
      "58500/58500 [==============================] - 1s 13us/step - loss: 0.3676 - acc: 0.8690 - val_loss: 0.2164 - val_acc: 0.9327\n",
      "Epoch 83/120\n",
      "58500/58500 [==============================] - 1s 14us/step - loss: 0.3661 - acc: 0.8695 - val_loss: 0.2223 - val_acc: 0.9300\n",
      "Epoch 84/120\n",
      "58500/58500 [==============================] - 1s 14us/step - loss: 0.3652 - acc: 0.8698 - val_loss: 0.1860 - val_acc: 0.9447\n",
      "Epoch 85/120\n",
      "58500/58500 [==============================] - 1s 14us/step - loss: 0.3640 - acc: 0.8702 - val_loss: 0.2475 - val_acc: 0.9240\n",
      "Epoch 86/120\n",
      "58500/58500 [==============================] - 1s 14us/step - loss: 0.3634 - acc: 0.8704 - val_loss: 0.2406 - val_acc: 0.9233\n",
      "Epoch 87/120\n",
      "58500/58500 [==============================] - 1s 14us/step - loss: 0.3623 - acc: 0.8698 - val_loss: 0.2408 - val_acc: 0.9233\n",
      "Epoch 88/120\n",
      "58500/58500 [==============================] - 1s 14us/step - loss: 0.3609 - acc: 0.8718 - val_loss: 0.2278 - val_acc: 0.9287\n",
      "Epoch 89/120\n",
      "58500/58500 [==============================] - 1s 14us/step - loss: 0.3597 - acc: 0.8715 - val_loss: 0.2385 - val_acc: 0.9247\n",
      "Epoch 90/120\n",
      "58500/58500 [==============================] - 1s 14us/step - loss: 0.3590 - acc: 0.8719 - val_loss: 0.2188 - val_acc: 0.9300\n",
      "Epoch 91/120\n",
      "58500/58500 [==============================] - 1s 14us/step - loss: 0.3579 - acc: 0.8726 - val_loss: 0.2193 - val_acc: 0.9340\n",
      "Epoch 92/120\n",
      "58500/58500 [==============================] - 1s 14us/step - loss: 0.3567 - acc: 0.8732 - val_loss: 0.2376 - val_acc: 0.9267\n",
      "Epoch 93/120\n",
      "58500/58500 [==============================] - 1s 14us/step - loss: 0.3560 - acc: 0.8734 - val_loss: 0.1996 - val_acc: 0.9413\n",
      "Epoch 94/120\n",
      "58500/58500 [==============================] - 1s 14us/step - loss: 0.3550 - acc: 0.8735 - val_loss: 0.2348 - val_acc: 0.9267\n",
      "Epoch 95/120\n",
      "58500/58500 [==============================] - 1s 14us/step - loss: 0.3540 - acc: 0.8734 - val_loss: 0.2271 - val_acc: 0.9307\n",
      "Epoch 96/120\n",
      "58500/58500 [==============================] - 1s 14us/step - loss: 0.3533 - acc: 0.8740 - val_loss: 0.2413 - val_acc: 0.9260\n",
      "Epoch 97/120\n",
      "58500/58500 [==============================] - 1s 14us/step - loss: 0.3518 - acc: 0.8740 - val_loss: 0.2133 - val_acc: 0.9367\n",
      "Epoch 98/120\n",
      "58500/58500 [==============================] - 1s 14us/step - loss: 0.3513 - acc: 0.8749 - val_loss: 0.2519 - val_acc: 0.9233\n",
      "Epoch 99/120\n",
      "58500/58500 [==============================] - 1s 14us/step - loss: 0.3501 - acc: 0.8744 - val_loss: 0.2311 - val_acc: 0.9273\n",
      "Epoch 100/120\n",
      "58500/58500 [==============================] - 1s 14us/step - loss: 0.3494 - acc: 0.8754 - val_loss: 0.2378 - val_acc: 0.9253\n",
      "Epoch 101/120\n",
      "58500/58500 [==============================] - 1s 14us/step - loss: 0.3483 - acc: 0.8757 - val_loss: 0.2207 - val_acc: 0.9313\n",
      "Epoch 102/120\n",
      "58500/58500 [==============================] - 1s 13us/step - loss: 0.3472 - acc: 0.8765 - val_loss: 0.2398 - val_acc: 0.9280\n",
      "Epoch 103/120\n",
      "58500/58500 [==============================] - 1s 14us/step - loss: 0.3465 - acc: 0.8766 - val_loss: 0.2440 - val_acc: 0.9260\n",
      "Epoch 104/120\n",
      "58500/58500 [==============================] - 1s 14us/step - loss: 0.3456 - acc: 0.8769 - val_loss: 0.2266 - val_acc: 0.9307\n",
      "Epoch 105/120\n",
      "58500/58500 [==============================] - 1s 15us/step - loss: 0.3447 - acc: 0.8775 - val_loss: 0.2198 - val_acc: 0.9340\n",
      "Epoch 106/120\n",
      "58500/58500 [==============================] - 1s 14us/step - loss: 0.3438 - acc: 0.8773 - val_loss: 0.2165 - val_acc: 0.9333\n",
      "Epoch 107/120\n",
      "58500/58500 [==============================] - 1s 15us/step - loss: 0.3428 - acc: 0.8777 - val_loss: 0.2229 - val_acc: 0.9340\n",
      "Epoch 108/120\n",
      "58500/58500 [==============================] - 1s 15us/step - loss: 0.3417 - acc: 0.8783 - val_loss: 0.2391 - val_acc: 0.9273\n",
      "Epoch 109/120\n",
      "58500/58500 [==============================] - 1s 14us/step - loss: 0.3409 - acc: 0.8781 - val_loss: 0.2337 - val_acc: 0.9293\n",
      "Epoch 110/120\n",
      "58500/58500 [==============================] - 1s 15us/step - loss: 0.3399 - acc: 0.8786 - val_loss: 0.2179 - val_acc: 0.9360\n",
      "Epoch 111/120\n",
      "58500/58500 [==============================] - 1s 15us/step - loss: 0.3388 - acc: 0.8792 - val_loss: 0.2244 - val_acc: 0.9307\n",
      "Epoch 112/120\n",
      "58500/58500 [==============================] - 1s 15us/step - loss: 0.3383 - acc: 0.8799 - val_loss: 0.2289 - val_acc: 0.9300\n",
      "Epoch 113/120\n",
      "58500/58500 [==============================] - 1s 15us/step - loss: 0.3375 - acc: 0.8795 - val_loss: 0.2448 - val_acc: 0.9260\n",
      "Epoch 114/120\n",
      "58500/58500 [==============================] - 1s 15us/step - loss: 0.3363 - acc: 0.8805 - val_loss: 0.2159 - val_acc: 0.9380\n",
      "Epoch 115/120\n",
      "58500/58500 [==============================] - 1s 15us/step - loss: 0.3354 - acc: 0.8804 - val_loss: 0.2614 - val_acc: 0.9213\n",
      "Epoch 116/120\n",
      "58500/58500 [==============================] - 1s 15us/step - loss: 0.3345 - acc: 0.8807 - val_loss: 0.2541 - val_acc: 0.9253\n",
      "Epoch 117/120\n",
      "58500/58500 [==============================] - 1s 15us/step - loss: 0.3335 - acc: 0.8816 - val_loss: 0.2286 - val_acc: 0.9320\n"
     ]
    },
    {
     "name": "stdout",
     "output_type": "stream",
     "text": [
      "Epoch 118/120\n",
      "58500/58500 [==============================] - 1s 16us/step - loss: 0.3327 - acc: 0.8806 - val_loss: 0.2394 - val_acc: 0.9287\n",
      "Epoch 119/120\n",
      "58500/58500 [==============================] - 1s 16us/step - loss: 0.3315 - acc: 0.8822 - val_loss: 0.2369 - val_acc: 0.9320\n",
      "Epoch 120/120\n",
      "58500/58500 [==============================] - 1s 15us/step - loss: 0.3305 - acc: 0.8825 - val_loss: 0.2335 - val_acc: 0.9300\n"
     ]
    }
   ],
   "source": [
    "#Your code here\n",
    "history = model.fit(train,\n",
    "                    label_train,\n",
    "                    epochs=120,\n",
    "                    batch_size=256,\n",
    "                    validation_data=(test, label_test))"
   ]
  },
  {
   "cell_type": "markdown",
   "metadata": {},
   "source": [
    "Recall that the dictionary `history` has two entries: the loss and the accuracy achieved using the training set."
   ]
  },
  {
   "cell_type": "code",
   "execution_count": 42,
   "metadata": {},
   "outputs": [
    {
     "data": {
      "text/plain": [
       "dict_keys(['val_loss', 'val_acc', 'loss', 'acc'])"
      ]
     },
     "execution_count": 42,
     "metadata": {},
     "output_type": "execute_result"
    }
   ],
   "source": [
    "history_dict = history.history\n",
    "history_dict.keys()"
   ]
  },
  {
   "cell_type": "markdown",
   "metadata": {},
   "source": [
    "## Plot the results\n",
    "\n",
    "As you might expect, we'll use our ```import matplotlib.pyplot as plt``` for graphing. Use the data stored in the history_dict above to plot the loss vs epochs and the accuracy vs epochs."
   ]
  },
  {
   "cell_type": "code",
   "execution_count": null,
   "metadata": {},
   "outputs": [],
   "source": [
    "#Your code here; plot the loss vs the number of epoch"
   ]
  },
  {
   "cell_type": "code",
   "execution_count": null,
   "metadata": {},
   "outputs": [],
   "source": [
    "#Your code here; plot the training accuracy vs the number of epochs"
   ]
  },
  {
   "cell_type": "code",
   "execution_count": 44,
   "metadata": {},
   "outputs": [
    {
     "data": {
      "image/png": "[encoded data removed]",
      "text/plain": [
       "<Figure size 432x288 with 1 Axes>"
      ]
     },
     "metadata": {
      "needs_background": "light"
     },
     "output_type": "display_data"
    },
    {
     "data": {
      "image/png": "[encoded data removed]",
      "text/plain": [
       "<Figure size 432x288 with 1 Axes>"
      ]
     },
     "metadata": {
      "needs_background": "light"
     },
     "output_type": "display_data"
    }
   ],
   "source": [
    "plt.plot(history.history['acc'])\n",
    "plt.plot(history.history['val_acc'])\n",
    "plt.title('model accuracy')\n",
    "plt.ylabel('accuracy')\n",
    "plt.xlabel('epoch')\n",
    "plt.legend(['training', 'validation'], loc='best')\n",
    "\n",
    "plt.show()\n",
    "\n",
    "plt.plot(history.history['loss'])\n",
    "plt.plot(history.history['val_loss'])\n",
    "plt.title('model loss')\n",
    "plt.ylabel('loss')\n",
    "plt.xlabel('epoch')\n",
    "plt.legend(['training', 'validation'], loc='best')\n",
    "\n",
    "plt.show()"
   ]
  },
  {
   "cell_type": "markdown",
   "metadata": {},
   "source": [
    "It seems like we could just keep on going and accuracy would go up!"
   ]
  },
  {
   "cell_type": "markdown",
   "metadata": {},
   "source": [
    "## Make predictions\n",
    "\n",
    "Finally, it's time to output. Use the method discussed in the previous lesson to output (probability) predictions for the test set."
   ]
  },
  {
   "cell_type": "code",
   "execution_count": 45,
   "metadata": {},
   "outputs": [],
   "source": [
    "#Your code here; Output (probability) predictions for the test set.\n",
    "y_hat_test = model.predict(test)"
   ]
  },
  {
   "cell_type": "code",
   "execution_count": 48,
   "metadata": {},
   "outputs": [
    {
     "data": {
      "text/plain": [
       "array([[5.9357423e-12, 3.1292191e-11, 9.2609385e-11, ..., 2.4925288e-11,\n",
       "        4.7267279e-13, 1.0000000e+00],\n",
       "       [3.0868236e-10, 1.2795424e-10, 1.5629005e-10, ..., 1.7471658e-11,\n",
       "        3.4970488e-10, 1.0000000e+00],\n",
       "       [9.4983521e-10, 6.5353258e-11, 1.9579258e-09, ..., 1.1520771e-09,\n",
       "        8.8487493e-09, 1.0000000e+00],\n",
       "       ...,\n",
       "       [2.6930724e-07, 2.5267261e-06, 3.7373439e-08, ..., 1.1555818e-05,\n",
       "        1.6078010e-08, 9.9998558e-01],\n",
       "       [7.1648506e-06, 1.5858969e-07, 1.2942368e-05, ..., 2.1885805e-06,\n",
       "        2.5951140e-05, 9.9994338e-01],\n",
       "       [7.7199601e-08, 1.3159840e-07, 2.1784300e-07, ..., 6.5263393e-08,\n",
       "        9.3219051e-06, 9.9999011e-01]], dtype=float32)"
      ]
     },
     "execution_count": 48,
     "metadata": {},
     "output_type": "execute_result"
    }
   ],
   "source": [
    "y_hat_test"
   ]
  },
  {
   "cell_type": "markdown",
   "metadata": {},
   "source": [
    "## Evaluate Performance\n",
    "\n",
    "Finally, print the loss and accuracy for both the train and test sets of the final trained model."
   ]
  },
  {
   "cell_type": "code",
   "execution_count": 46,
   "metadata": {},
   "outputs": [
    {
     "name": "stdout",
     "output_type": "stream",
     "text": [
      "58500/58500 [==============================] - 1s 16us/step\n",
      "Train loss: 0.327\n",
      "Train accuracy: 0.884\n"
     ]
    }
   ],
   "source": [
    "#Your code here; print the loss and accuracy for the training set.\n",
    "loss, accuracy  = model.evaluate(train, label_train, verbose=True)\n",
    "print(f'Train loss: {loss:.3}')\n",
    "print(f'Train accuracy: {accuracy:.3}')"
   ]
  },
  {
   "cell_type": "code",
   "execution_count": 47,
   "metadata": {},
   "outputs": [
    {
     "name": "stdout",
     "output_type": "stream",
     "text": [
      "1500/1500 [==============================] - 0s 20us/step\n",
      "Test loss: 0.234\n",
      "Test accuracy: 0.93\n"
     ]
    }
   ],
   "source": [
    "#Your code here; print the loss and accuracy for the test set.\n",
    "loss, accuracy  = model.evaluate(test, label_test, verbose=True)\n",
    "print(f'Test loss: {loss:.3}')\n",
    "print(f'Test accuracy: {accuracy:.3}')"
   ]
  },
  {
   "cell_type": "markdown",
   "metadata": {},
   "source": [
    "We can see that the training set results are really good, but the test set results lag behind. In the next lab. We'll talk a little more about this in the next lecture, and will discuss how we can get better test set results as well!"
   ]
  },
  {
   "cell_type": "markdown",
   "metadata": {},
   "source": [
    "## Additional Resources"
   ]
  },
  {
   "cell_type": "markdown",
   "metadata": {},
   "source": [
    "https://github.com/susanli2016/Machine-Learning-with-Python/blob/master/Consumer_complaints.ipynb"
   ]
  },
  {
   "cell_type": "markdown",
   "metadata": {},
   "source": [
    "https://catalog.data.gov/dataset/consumer-complaint-database"
   ]
  },
  {
   "cell_type": "markdown",
   "metadata": {},
   "source": [
    "## Summary \n",
    "\n",
    "Congratulations! In this lab, you built a neural network with much less production time thanks to the tools provided by Keras! In upcoming lessons and labs we'll continue to investigate further ideas regarding how to tune and refine these models for increased accuracy and performance."
   ]
  }
 ],
 "metadata": {
  "kernelspec": {
   "display_name": "Python 3",
   "language": "python",
   "name": "python3"
  },
  "language_info": {
   "codemirror_mode": {
    "name": "ipython",
    "version": 3
   },
   "file_extension": ".py",
   "mimetype": "text/x-python",
   "name": "python",
   "nbconvert_exporter": "python",
   "pygments_lexer": "ipython3",
   "version": "3.6.9"
  },
  "toc": {
   "base_numbering": 1,
   "nav_menu": {},
   "number_sections": true,
   "sideBar": true,
   "skip_h1_title": false,
   "title_cell": "Table of Contents",
   "title_sidebar": "Contents",
   "toc_cell": false,
   "toc_position": {},
   "toc_section_display": true,
   "toc_window_display": false
  }
 },
 "nbformat": 4,
 "nbformat_minor": 2
}
